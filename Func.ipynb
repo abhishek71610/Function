{
  "nbformat": 4,
  "nbformat_minor": 0,
  "metadata": {
    "colab": {
      "provenance": []
    },
    "kernelspec": {
      "name": "python3",
      "display_name": "Python 3"
    },
    "language_info": {
      "name": "python"
    }
  },
  "cells": [
    {
      "cell_type": "markdown",
      "source": [
        "1. Write a Python function that takes a list of numbers as input and returns the sum of all even numbers in\n",
        "the list.\n",
        "\n"
      ],
      "metadata": {
        "id": "kAQ1LE5QcFI8"
      }
    },
    {
      "cell_type": "code",
      "source": [
        "def sum(lis):\n",
        "  k=0\n",
        "  for i in lis:\n",
        "    if i%2==0:\n",
        "      k+=i\n",
        "  return k\n",
        "lis= [1, 2, 3, 4, 5, 6]\n",
        "sum(lis)"
      ],
      "metadata": {
        "colab": {
          "base_uri": "https://localhost:8080/"
        },
        "id": "w3NmTEuLcKCU",
        "outputId": "dc691e12-eee1-4c8d-fc39-5715d94b9b98"
      },
      "execution_count": null,
      "outputs": [
        {
          "output_type": "execute_result",
          "data": {
            "text/plain": [
              "12"
            ]
          },
          "metadata": {},
          "execution_count": 17
        }
      ]
    },
    {
      "cell_type": "markdown",
      "source": [
        "2. Create a Python function that accepts a string and returns the reverse of that string."
      ],
      "metadata": {
        "id": "yPOCLVjkwBYf"
      }
    },
    {
      "cell_type": "code",
      "source": [
        "def reverse(str):\n",
        "  st=\"\"\n",
        "  for i in str:\n",
        "    st=i+st\n",
        "  return st\n",
        "reverse(\"vivo\")"
      ],
      "metadata": {
        "colab": {
          "base_uri": "https://localhost:8080/",
          "height": 36
        },
        "id": "VZI8gGBVeBG1",
        "outputId": "10334cf6-0968-4099-e195-468c528a7e54"
      },
      "execution_count": null,
      "outputs": [
        {
          "output_type": "execute_result",
          "data": {
            "text/plain": [
              "'oviv'"
            ],
            "application/vnd.google.colaboratory.intrinsic+json": {
              "type": "string"
            }
          },
          "metadata": {},
          "execution_count": 19
        }
      ]
    },
    {
      "cell_type": "markdown",
      "source": [
        "3. Implement a Python function that takes a list of integers and returns a new list containing the squares of\n",
        "each number"
      ],
      "metadata": {
        "id": "I6VQ2DIne6zt"
      }
    },
    {
      "cell_type": "code",
      "source": [
        "def sq(lis):\n",
        "  lis1 = list(map(lambda x:x**2,lis))\n",
        "  print(lis1)\n",
        "lis=[1,2,3,4,5]\n",
        "sq(lis)"
      ],
      "metadata": {
        "colab": {
          "base_uri": "https://localhost:8080/"
        },
        "id": "W8EGiDW7e7kc",
        "outputId": "75b7d402-508b-4339-a085-425bf26e0a88"
      },
      "execution_count": null,
      "outputs": [
        {
          "output_type": "stream",
          "name": "stdout",
          "text": [
            "[1, 4, 9, 16, 25]\n"
          ]
        }
      ]
    },
    {
      "cell_type": "markdown",
      "source": [
        "4. Write a Python function that checks if a given number is prime or not from 1 to 200."
      ],
      "metadata": {
        "id": "V1GmKJQFgc82"
      }
    },
    {
      "cell_type": "code",
      "source": [
        "def is_prime(number):\n",
        "  if number <= 1:\n",
        "    return False\n",
        "  for i in range(2, int(number**0.5) + 1):\n",
        "    if number % i == 0:\n",
        "      return False\n",
        "  return True\n",
        "for num in range(1, 201):\n",
        "  if is_prime(num):\n",
        "    print(num, \"is prime\")"
      ],
      "metadata": {
        "colab": {
          "base_uri": "https://localhost:8080/"
        },
        "id": "Vr5Kua78ghdM",
        "outputId": "667c8a3b-fac8-457e-8ead-28c207a690e2"
      },
      "execution_count": null,
      "outputs": [
        {
          "output_type": "stream",
          "name": "stdout",
          "text": [
            "2 is prime\n",
            "3 is prime\n",
            "5 is prime\n",
            "7 is prime\n",
            "11 is prime\n",
            "13 is prime\n",
            "17 is prime\n",
            "19 is prime\n",
            "23 is prime\n",
            "29 is prime\n",
            "31 is prime\n",
            "37 is prime\n",
            "41 is prime\n",
            "43 is prime\n",
            "47 is prime\n",
            "53 is prime\n",
            "59 is prime\n",
            "61 is prime\n",
            "67 is prime\n",
            "71 is prime\n",
            "73 is prime\n",
            "79 is prime\n",
            "83 is prime\n",
            "89 is prime\n",
            "97 is prime\n",
            "101 is prime\n",
            "103 is prime\n",
            "107 is prime\n",
            "109 is prime\n",
            "113 is prime\n",
            "127 is prime\n",
            "131 is prime\n",
            "137 is prime\n",
            "139 is prime\n",
            "149 is prime\n",
            "151 is prime\n",
            "157 is prime\n",
            "163 is prime\n",
            "167 is prime\n",
            "173 is prime\n",
            "179 is prime\n",
            "181 is prime\n",
            "191 is prime\n",
            "193 is prime\n",
            "197 is prime\n",
            "199 is prime\n"
          ]
        }
      ]
    },
    {
      "cell_type": "markdown",
      "source": [
        "5. Create an iterator class in Python that generates the Fibonacci sequence up to a specified number of\n",
        "terms."
      ],
      "metadata": {
        "id": "DWB_QN6nkzpP"
      }
    },
    {
      "cell_type": "code",
      "source": [
        "def fib(n):\n",
        "  a,b=0,1\n",
        "  for i in range(n):\n",
        "    yield a\n",
        "\n",
        "    a,b=b,a+b\n",
        "iter = fib(5)\n",
        "next(iter)\n"
      ],
      "metadata": {
        "colab": {
          "base_uri": "https://localhost:8080/"
        },
        "id": "jkmH1gHFk8g9",
        "outputId": "e87af344-cde2-45fa-ceee-469023238f01"
      },
      "execution_count": null,
      "outputs": [
        {
          "output_type": "execute_result",
          "data": {
            "text/plain": [
              "0"
            ]
          },
          "metadata": {},
          "execution_count": 53
        }
      ]
    },
    {
      "cell_type": "markdown",
      "source": [
        "6.Write a generator function in Python that yields the powers of 2 up to a given exponent."
      ],
      "metadata": {
        "id": "3-FBxIkZnhiO"
      }
    },
    {
      "cell_type": "code",
      "source": [
        "def powers(k):\n",
        "  power=1\n",
        "  for i in range(k):\n",
        "    yield power\n",
        "    power=power*2\n",
        "iter = powers(5)\n",
        "next(iter)"
      ],
      "metadata": {
        "colab": {
          "base_uri": "https://localhost:8080/"
        },
        "id": "uHpmrVgGnjJd",
        "outputId": "d48e8d01-578a-48a3-a7a8-c67d2d6e5128"
      },
      "execution_count": null,
      "outputs": [
        {
          "output_type": "execute_result",
          "data": {
            "text/plain": [
              "1"
            ]
          },
          "metadata": {},
          "execution_count": 102
        }
      ]
    },
    {
      "cell_type": "markdown",
      "source": [
        "7. Implement a generator function that reads a file line by line and yields each line as a string."
      ],
      "metadata": {
        "id": "sVZ05dW5ri6-"
      }
    },
    {
      "cell_type": "code",
      "source": [
        "def yield_lines(multiline_string):\n",
        "  for line in multiline_string.splitlines():\n",
        "       yield line\n",
        "\n",
        "iter = yield_lines(\"\"\"The sun shone brightly on the park, its golden rays warming the faces of the children playing on the swings.\n",
        "                     A gentle breeze rustled the leaves of the trees, creating a soothing rhythm that accompanied the laughter of the children.\n",
        "                     A squirrel scampered up a tree trunk, its bushy tail twitching with excitement.\n",
        "                     A dog chased after a butterfly, its tongue lolling happily as it raced across the grass.\"\"\")\n",
        "next(iter)\n"
      ],
      "metadata": {
        "id": "8EEN55hhrnv2",
        "colab": {
          "base_uri": "https://localhost:8080/",
          "height": 36
        },
        "outputId": "72a51caa-176c-402c-ff67-0c335c45b2a1"
      },
      "execution_count": null,
      "outputs": [
        {
          "output_type": "execute_result",
          "data": {
            "text/plain": [
              "'The sun shone brightly on the park, its golden rays warming the faces of the children playing on the swings.'"
            ],
            "application/vnd.google.colaboratory.intrinsic+json": {
              "type": "string"
            }
          },
          "metadata": {},
          "execution_count": 21
        }
      ]
    },
    {
      "cell_type": "code",
      "source": [
        "next(iter)"
      ],
      "metadata": {
        "colab": {
          "base_uri": "https://localhost:8080/",
          "height": 36
        },
        "id": "2cv7BOtbgcmw",
        "outputId": "0fb8f98d-bd9d-437f-c8b4-bacdabb24293"
      },
      "execution_count": null,
      "outputs": [
        {
          "output_type": "execute_result",
          "data": {
            "text/plain": [
              "'                     A gentle breeze rustled the leaves of the trees, creating a soothing rhythm that accompanied the laughter of the children.'"
            ],
            "application/vnd.google.colaboratory.intrinsic+json": {
              "type": "string"
            }
          },
          "metadata": {},
          "execution_count": 22
        }
      ]
    },
    {
      "cell_type": "code",
      "source": [
        "next(iter)"
      ],
      "metadata": {
        "colab": {
          "base_uri": "https://localhost:8080/",
          "height": 36
        },
        "id": "iA6yU046gct2",
        "outputId": "7335c150-8e5b-42d8-ce31-7f467681bbdc"
      },
      "execution_count": null,
      "outputs": [
        {
          "output_type": "execute_result",
          "data": {
            "text/plain": [
              "'                     A squirrel scampered up a tree trunk, its bushy tail twitching with excitement.'"
            ],
            "application/vnd.google.colaboratory.intrinsic+json": {
              "type": "string"
            }
          },
          "metadata": {},
          "execution_count": 23
        }
      ]
    },
    {
      "cell_type": "markdown",
      "source": [
        "8. Use a lambda function in Python to sort a list of tuples based on the second element of each tuple"
      ],
      "metadata": {
        "id": "wKZQhv7JiKcP"
      }
    },
    {
      "cell_type": "code",
      "source": [
        "my_list = [(1, 3), (4, 2), (2, 5), (3, 1)]\n",
        "\n",
        "sorted_list = sorted(my_list, key=lambda x: x[1])\n",
        "\n",
        "print(sorted_list)"
      ],
      "metadata": {
        "id": "d18zLbh9iMBm"
      },
      "execution_count": null,
      "outputs": []
    },
    {
      "cell_type": "markdown",
      "source": [
        "9. Write a Python program that uses `map()` to convert a list of temperatures from Celsius to Fahrenheit."
      ],
      "metadata": {
        "id": "-Cz6NQb8iYIW"
      }
    },
    {
      "cell_type": "code",
      "source": [
        "def faren():\n",
        "  cel=[20,40,30,50,40,30]\n",
        "  far=list(map(lambda x:(x*9/5)+32,cel))\n",
        "  return far\n",
        "faren()\n"
      ],
      "metadata": {
        "colab": {
          "base_uri": "https://localhost:8080/"
        },
        "id": "2whkVpN4iaqO",
        "outputId": "9985e4a9-600c-47ae-b36c-c8ae1d4f1c8f"
      },
      "execution_count": null,
      "outputs": [
        {
          "output_type": "execute_result",
          "data": {
            "text/plain": [
              "[68.0, 104.0, 86.0, 122.0, 104.0, 86.0]"
            ]
          },
          "metadata": {},
          "execution_count": 26
        }
      ]
    },
    {
      "cell_type": "markdown",
      "source": [
        "10. Create a Python program that uses `filter()` to remove all the vowels from a given string."
      ],
      "metadata": {
        "id": "5bpMKASfjz1R"
      }
    },
    {
      "cell_type": "code",
      "source": [
        "def vowel():\n",
        "  st=\"pwskills\"\n",
        "  vowels = \"aeiouAEIOU\"\n",
        "  return list((filter(lambda x: x not in vowels, st)))\n",
        "vowel()"
      ],
      "metadata": {
        "colab": {
          "base_uri": "https://localhost:8080/"
        },
        "id": "Zr0mgsPtj3Af",
        "outputId": "b1f7a180-ee22-4cb4-dbcf-1d34f14bd388"
      },
      "execution_count": null,
      "outputs": [
        {
          "output_type": "execute_result",
          "data": {
            "text/plain": [
              "['p', 'w', 's', 'k', 'l', 'l', 's']"
            ]
          },
          "metadata": {},
          "execution_count": 48
        }
      ]
    },
    {
      "cell_type": "markdown",
      "source": [
        "11."
      ],
      "metadata": {
        "id": "ENhxqaERnPrI"
      }
    },
    {
      "cell_type": "code",
      "source": [
        "def bookshop(orders):\n",
        "\n",
        "\n",
        "  for order in orders:\n",
        "    order_number,author, price, quantity = order\n",
        "    total_cost = price * quantity\n",
        "    total_cost=lambda x:x+10 if total_cost<100 else total_cost\n",
        "    result=map((order_number, price, quantity, total_cost),orders)\n",
        "  print(result)\n",
        "\n",
        "orders = [\n",
        "[1, \"A\", 10, 5],\n",
        "[2, \"V\", 20, 3],\n",
        "[3, \"C\", 5, 10],\n",
        "[4, \"D\", 15, 2],\n",
        "]\n",
        "order_totals = bookshop(orders)\n",
        "print(order_totals)\n"
      ],
      "metadata": {
        "colab": {
          "base_uri": "https://localhost:8080/"
        },
        "id": "XeV5Vw5coMII",
        "outputId": "f0990565-c8de-4c37-fc67-533373a31356"
      },
      "execution_count": null,
      "outputs": [
        {
          "output_type": "stream",
          "name": "stdout",
          "text": [
            "<map object at 0x7f47d62e7eb0>\n",
            "None\n"
          ]
        }
      ]
    }
  ]
}